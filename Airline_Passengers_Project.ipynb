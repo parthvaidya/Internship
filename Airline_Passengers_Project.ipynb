{
 "cells": [
  {
   "cell_type": "markdown",
   "metadata": {},
   "source": [
    "# Time Series Prediction with LSTM Recurrent Neural Networks for Airline Passengers Data"
   ]
  },
  {
   "cell_type": "markdown",
   "metadata": {},
   "source": [
    "## Problem Statement: \n",
    "### The problem we are going to look here is the International Airline Passengers prediction problem.This is a problem where, we are given a year and a month, the task is to predict the number of international airline passengers in units of 1,000. The data ranges from January 1949 to December 1960, or 12 years, with 144 observations. "
   ]
  },
  {
   "cell_type": "markdown",
   "metadata": {},
   "source": [
    "### We first import the dataset given and analyze how the data is represented inside the graph."
   ]
  },
  {
   "cell_type": "code",
   "execution_count": 4,
   "metadata": {},
   "outputs": [
    {
     "data": {
      "image/png": "[encoded data removed]",
      "text/plain": [
       "<Figure size 432x288 with 1 Axes>"
      ]
     },
     "metadata": {
      "needs_background": "light"
     },
     "output_type": "display_data"
    }
   ],
   "source": [
    "import pandas\n",
    "import matplotlib.pyplot as plt\n",
    "dataset = pandas.read_csv('airline-passengers.csv', usecols=[1], engine='python')\n",
    "plt.plot(dataset)\n",
    "plt.show()"
   ]
  },
  {
   "cell_type": "markdown",
   "metadata": {},
   "source": [
    "### What we see above is that the graph has an ''upward trend'' . It indicates that there has been increase in passengers each year."
   ]
  },
  {
   "cell_type": "markdown",
   "metadata": {},
   "source": [
    "# LSTM model of airline passengers data using \"Univariate\"  time series forecasting :"
   ]
  },
  {
   "cell_type": "markdown",
   "metadata": {},
   "source": [
    "### What is Univariate time series forecasting : In simple words it is a regular LSTM model that comprised of a single series of observations and a model is required to learn from the series of past observations to predict the next value in the sequence.\n",
    "### There are total 6 types of Univariate LSTM but we are going to work on only Vanilla LSTM "
   ]
  },
  {
   "cell_type": "markdown",
   "metadata": {},
   "source": [
    "# Vanilla LSTM:\n",
    "### A Vanilla LSTM is an LSTM model that has a single hidden layer of LSTM units, and an output layer used to make a prediction. For example: model.add(Dense(1)) . What this shows is that we have a single hidden layer for our prediction.\n"
   ]
  },
  {
   "cell_type": "markdown",
   "metadata": {},
   "source": [
    "# LSTM for Regression:\n",
    "### We are now going to predict the number of passengers in the next month using the previous data. We can write a simple function to convert our single column of data into a two-column dataset: the first column containing this month’s (t) passenger count and the second column containing next month’s (t+1) passenger count, to be predicted.  "
   ]
  },
  {
   "cell_type": "markdown",
   "metadata": {},
   "source": [
    "### We will now import all the necessary modules that are required for our prediction model."
   ]
  },
  {
   "cell_type": "code",
   "execution_count": 5,
   "metadata": {},
   "outputs": [],
   "source": [
    "import numpy\n",
    "import matplotlib.pyplot as plt\n",
    "import pandas as pd\n",
    "import math\n",
    "from keras.models import Sequential\n",
    "from keras.layers import Dense\n",
    "from keras.layers import LSTM\n",
    "from sklearn.preprocessing import MinMaxScaler  #Default range is from 0-1\n",
    "from sklearn.metrics import mean_squared_error "
   ]
  },
  {
   "cell_type": "markdown",
   "metadata": {},
   "source": [
    "### Here we have imported modules like Numpy that helps for high-level mathematical functions in this problem:\n",
    "### Matplotlib: which will help in plotting the graph for visual representation. \n",
    "### Pandas: which will help for handling the given dataset.  \n",
    "### Sklearn:  that contains a lot of efficient tools like classification, regression, clustering and dimensionality reduction, we  use MinMax Scaler because it preserves the shape of the original distribution. We also import Mean_Squared_Error because estimator measures the average of error squares i.e. the average squared difference between the estimated values and true value. \n",
    "### Keras: Here we import Sequential ,  Dense and LSTM. Sequential helps us to train model using layers, Dense helps us in activation function by providing it arguments, LSTM the main layer to process the model and give us the output."
   ]
  },
  {
   "cell_type": "markdown",
   "metadata": {},
   "source": [
    "### We first fix the random number seed to ensure our results are reproducible."
   ]
  },
  {
   "cell_type": "code",
   "execution_count": 6,
   "metadata": {},
   "outputs": [],
   "source": [
    "numpy.random.seed(7)"
   ]
  },
  {
   "cell_type": "markdown",
   "metadata": {},
   "source": [
    "### Then we call upon the dataset to extract the NumPy array from the dataframe and convert the integer values to floating point values, which are more suitable for modeling for a neural network to give its prediction."
   ]
  },
  {
   "cell_type": "code",
   "execution_count": 7,
   "metadata": {},
   "outputs": [],
   "source": [
    "dataframe = pandas.read_csv('airline-passengers.csv', usecols=[1], engine='python') #read the datset using pandas\n",
    "dataset = dataframe.values # convert it to numpy array\n",
    "dataset = dataset.astype('float32') # Integer value to float"
   ]
  },
  {
   "cell_type": "markdown",
   "metadata": {},
   "source": [
    "###  Here we rescale the data to the range of 0 to 1 to normalizing. We can easily do that using the MinMaxScaler  from the scikit-learn library."
   ]
  },
  {
   "cell_type": "code",
   "execution_count": 8,
   "metadata": {},
   "outputs": [],
   "source": [
    "scaler = MinMaxScaler(feature_range=(0, 1)) # normalize the dataset\n",
    "dataset = scaler.fit_transform(dataset)"
   ]
  },
  {
   "cell_type": "markdown",
   "metadata": {},
   "source": [
    "### Below what we do is split the dataset into train and test dataset. We multiply the length of dataset to 0.70 in order to convert it to training dataset i.e 70 % data will be converted to training data set. The rest of dataset is now converted to test sets(30%)."
   ]
  },
  {
   "cell_type": "code",
   "execution_count": 9,
   "metadata": {},
   "outputs": [
    {
     "name": "stdout",
     "output_type": "stream",
     "text": [
      "100 44\n"
     ]
    }
   ],
   "source": [
    "train_size = int(len(dataset) * 0.70) #estimate size of training data\n",
    "test_size = len(dataset) - train_size #estimate size of test data\n",
    "train, test = dataset[0:train_size,:], dataset[train_size:len(dataset),:] # to calculate the split points in dataset\n",
    "print(len(train), len(test)) "
   ]
  },
  {
   "cell_type": "markdown",
   "metadata": {},
   "source": [
    "### We create a function named create_dataset that takes 2 parameters named dataset and look_back. Dataset is an array that is converted to a dataset, and look_back is the number of previous time steps to use as input variables to predict the next time period.\n",
    "### What it does is it will create a dataset where X is the number of passengers at a given time t and Y is the number of passengers at the next time t+1.\n"
   ]
  },
  {
   "cell_type": "code",
   "execution_count": 10,
   "metadata": {},
   "outputs": [],
   "source": [
    "# convert an array of values into a dataset matrix\n",
    "def create_dataset(dataset, look_back=1): # 2 parameters\n",
    "\tdataX, dataY = [], []   #convert into array\n",
    "\tfor i in range(len(dataset)-look_back-1):\n",
    "\t\ta = dataset[i:(i+look_back), 0]\n",
    "\t\tdataX.append(a)\n",
    "\t\tdataY.append(dataset[i + look_back, 0])\n",
    "\treturn numpy.array(dataX), numpy.array(dataY)"
   ]
  },
  {
   "cell_type": "markdown",
   "metadata": {},
   "source": [
    "### We now call the above function into action and prepare the datasets. We have called the function below."
   ]
  },
  {
   "cell_type": "code",
   "execution_count": 11,
   "metadata": {},
   "outputs": [],
   "source": [
    "look_back = 1\n",
    "trainX, trainY = create_dataset(train, look_back)\n",
    "testX, testY = create_dataset(test, look_back)"
   ]
  },
  {
   "cell_type": "markdown",
   "metadata": {},
   "source": [
    "### Using numpy.reshape() below what we do is we change the data into the form [samples, time steps, features]. Earlier we had it in the form [samples, feature]."
   ]
  },
  {
   "cell_type": "code",
   "execution_count": 12,
   "metadata": {},
   "outputs": [],
   "source": [
    "trainX = numpy.reshape(trainX, (trainX.shape[0], 1, trainX.shape[1]))\n",
    "testX = numpy.reshape(testX, (testX.shape[0], 1, testX.shape[1]))"
   ]
  },
  {
   "cell_type": "markdown",
   "metadata": {},
   "source": [
    "### Lets now create and fit the model using keras libraries that we had call upon earlier. The network has a visible layer with 1 input, a hidden layer with 4 LSTM blocks or neurons, and an output layer that makes a single value prediction. The default sigmoid activation function is used for the LSTM blocks. The network is trained for 110 epochs and a batch size of 1 is used."
   ]
  },
  {
   "cell_type": "code",
   "execution_count": 13,
   "metadata": {},
   "outputs": [
    {
     "name": "stdout",
     "output_type": "stream",
     "text": [
      "Epoch 1/110\n",
      "98/98 - 0s - loss: 0.0432\n",
      "Epoch 2/110\n",
      "98/98 - 0s - loss: 0.0201\n",
      "Epoch 3/110\n",
      "98/98 - 0s - loss: 0.0154\n",
      "Epoch 4/110\n",
      "98/98 - 0s - loss: 0.0142\n",
      "Epoch 5/110\n",
      "98/98 - 0s - loss: 0.0131\n",
      "Epoch 6/110\n",
      "98/98 - 0s - loss: 0.0122\n",
      "Epoch 7/110\n",
      "98/98 - 0s - loss: 0.0113\n",
      "Epoch 8/110\n",
      "98/98 - 0s - loss: 0.0104\n",
      "Epoch 9/110\n",
      "98/98 - 0s - loss: 0.0094\n",
      "Epoch 10/110\n",
      "98/98 - 0s - loss: 0.0083\n",
      "Epoch 11/110\n",
      "98/98 - 0s - loss: 0.0073\n",
      "Epoch 12/110\n",
      "98/98 - 0s - loss: 0.0064\n",
      "Epoch 13/110\n",
      "98/98 - 0s - loss: 0.0055\n",
      "Epoch 14/110\n",
      "98/98 - 0s - loss: 0.0045\n",
      "Epoch 15/110\n",
      "98/98 - 0s - loss: 0.0038\n",
      "Epoch 16/110\n",
      "98/98 - 0s - loss: 0.0032\n",
      "Epoch 17/110\n",
      "98/98 - 0s - loss: 0.0028\n",
      "Epoch 18/110\n",
      "98/98 - 0s - loss: 0.0025\n",
      "Epoch 19/110\n",
      "98/98 - 0s - loss: 0.0024\n",
      "Epoch 20/110\n",
      "98/98 - 0s - loss: 0.0023\n",
      "Epoch 21/110\n",
      "98/98 - 0s - loss: 0.0022\n",
      "Epoch 22/110\n",
      "98/98 - 0s - loss: 0.0022\n",
      "Epoch 23/110\n",
      "98/98 - 0s - loss: 0.0022\n",
      "Epoch 24/110\n",
      "98/98 - 0s - loss: 0.0021\n",
      "Epoch 25/110\n",
      "98/98 - 0s - loss: 0.0022\n",
      "Epoch 26/110\n",
      "98/98 - 0s - loss: 0.0021\n",
      "Epoch 27/110\n",
      "98/98 - 0s - loss: 0.0022\n",
      "Epoch 28/110\n",
      "98/98 - 0s - loss: 0.0021\n",
      "Epoch 29/110\n",
      "98/98 - 0s - loss: 0.0022\n",
      "Epoch 30/110\n",
      "98/98 - 0s - loss: 0.0022\n",
      "Epoch 31/110\n",
      "98/98 - 0s - loss: 0.0022\n",
      "Epoch 32/110\n",
      "98/98 - 0s - loss: 0.0022\n",
      "Epoch 33/110\n",
      "98/98 - 0s - loss: 0.0021\n",
      "Epoch 34/110\n",
      "98/98 - 0s - loss: 0.0022\n",
      "Epoch 35/110\n",
      "98/98 - 0s - loss: 0.0021\n",
      "Epoch 36/110\n",
      "98/98 - 0s - loss: 0.0021\n",
      "Epoch 37/110\n",
      "98/98 - 0s - loss: 0.0021\n",
      "Epoch 38/110\n",
      "98/98 - 0s - loss: 0.0022\n",
      "Epoch 39/110\n",
      "98/98 - 0s - loss: 0.0021\n",
      "Epoch 40/110\n",
      "98/98 - 0s - loss: 0.0022\n",
      "Epoch 41/110\n",
      "98/98 - 0s - loss: 0.0022\n",
      "Epoch 42/110\n",
      "98/98 - 0s - loss: 0.0022\n",
      "Epoch 43/110\n",
      "98/98 - 0s - loss: 0.0022\n",
      "Epoch 44/110\n",
      "98/98 - 0s - loss: 0.0022\n",
      "Epoch 45/110\n",
      "98/98 - 0s - loss: 0.0022\n",
      "Epoch 46/110\n",
      "98/98 - 0s - loss: 0.0022\n",
      "Epoch 47/110\n",
      "98/98 - 0s - loss: 0.0022\n",
      "Epoch 48/110\n",
      "98/98 - 0s - loss: 0.0022\n",
      "Epoch 49/110\n",
      "98/98 - 0s - loss: 0.0023\n",
      "Epoch 50/110\n",
      "98/98 - 0s - loss: 0.0021\n",
      "Epoch 51/110\n",
      "98/98 - 0s - loss: 0.0021\n",
      "Epoch 52/110\n",
      "98/98 - 0s - loss: 0.0022\n",
      "Epoch 53/110\n",
      "98/98 - 0s - loss: 0.0022\n",
      "Epoch 54/110\n",
      "98/98 - 0s - loss: 0.0021\n",
      "Epoch 55/110\n",
      "98/98 - 0s - loss: 0.0022\n",
      "Epoch 56/110\n",
      "98/98 - 0s - loss: 0.0021\n",
      "Epoch 57/110\n",
      "98/98 - 0s - loss: 0.0021\n",
      "Epoch 58/110\n",
      "98/98 - 0s - loss: 0.0022\n",
      "Epoch 59/110\n",
      "98/98 - 0s - loss: 0.0022\n",
      "Epoch 60/110\n",
      "98/98 - 0s - loss: 0.0022\n",
      "Epoch 61/110\n",
      "98/98 - 0s - loss: 0.0022\n",
      "Epoch 62/110\n",
      "98/98 - 0s - loss: 0.0021\n",
      "Epoch 63/110\n",
      "98/98 - 0s - loss: 0.0021\n",
      "Epoch 64/110\n",
      "98/98 - 0s - loss: 0.0022\n",
      "Epoch 65/110\n",
      "98/98 - 0s - loss: 0.0021\n",
      "Epoch 66/110\n",
      "98/98 - 0s - loss: 0.0021\n",
      "Epoch 67/110\n",
      "98/98 - 0s - loss: 0.0022\n",
      "Epoch 68/110\n",
      "98/98 - 0s - loss: 0.0022\n",
      "Epoch 69/110\n",
      "98/98 - 0s - loss: 0.0021\n",
      "Epoch 70/110\n",
      "98/98 - 0s - loss: 0.0021\n",
      "Epoch 71/110\n",
      "98/98 - 0s - loss: 0.0021\n",
      "Epoch 72/110\n",
      "98/98 - 0s - loss: 0.0021\n",
      "Epoch 73/110\n",
      "98/98 - 0s - loss: 0.0022\n",
      "Epoch 74/110\n",
      "98/98 - 0s - loss: 0.0021\n",
      "Epoch 75/110\n",
      "98/98 - 0s - loss: 0.0021\n",
      "Epoch 76/110\n",
      "98/98 - 0s - loss: 0.0021\n",
      "Epoch 77/110\n",
      "98/98 - 0s - loss: 0.0022\n",
      "Epoch 78/110\n",
      "98/98 - 0s - loss: 0.0022\n",
      "Epoch 79/110\n",
      "98/98 - 0s - loss: 0.0021\n",
      "Epoch 80/110\n",
      "98/98 - 0s - loss: 0.0022\n",
      "Epoch 81/110\n",
      "98/98 - 0s - loss: 0.0022\n",
      "Epoch 82/110\n",
      "98/98 - 0s - loss: 0.0021\n",
      "Epoch 83/110\n",
      "98/98 - 0s - loss: 0.0021\n",
      "Epoch 84/110\n",
      "98/98 - 0s - loss: 0.0022\n",
      "Epoch 85/110\n",
      "98/98 - 0s - loss: 0.0020\n",
      "Epoch 86/110\n",
      "98/98 - 0s - loss: 0.0021\n",
      "Epoch 87/110\n",
      "98/98 - 0s - loss: 0.0022\n",
      "Epoch 88/110\n",
      "98/98 - 0s - loss: 0.0021\n",
      "Epoch 89/110\n",
      "98/98 - 0s - loss: 0.0021\n",
      "Epoch 90/110\n",
      "98/98 - 0s - loss: 0.0021\n",
      "Epoch 91/110\n",
      "98/98 - 0s - loss: 0.0021\n",
      "Epoch 92/110\n",
      "98/98 - 0s - loss: 0.0022\n",
      "Epoch 93/110\n",
      "98/98 - 0s - loss: 0.0022\n",
      "Epoch 94/110\n",
      "98/98 - 0s - loss: 0.0021\n",
      "Epoch 95/110\n",
      "98/98 - 0s - loss: 0.0021\n",
      "Epoch 96/110\n",
      "98/98 - 0s - loss: 0.0021\n",
      "Epoch 97/110\n",
      "98/98 - 0s - loss: 0.0022\n",
      "Epoch 98/110\n",
      "98/98 - 0s - loss: 0.0021\n",
      "Epoch 99/110\n",
      "98/98 - 0s - loss: 0.0021\n",
      "Epoch 100/110\n",
      "98/98 - 0s - loss: 0.0022\n",
      "Epoch 101/110\n",
      "98/98 - 0s - loss: 0.0021\n",
      "Epoch 102/110\n",
      "98/98 - 0s - loss: 0.0022\n",
      "Epoch 103/110\n",
      "98/98 - 0s - loss: 0.0022\n",
      "Epoch 104/110\n",
      "98/98 - 0s - loss: 0.0021\n",
      "Epoch 105/110\n",
      "98/98 - 0s - loss: 0.0022\n",
      "Epoch 106/110\n",
      "98/98 - 0s - loss: 0.0021\n",
      "Epoch 107/110\n",
      "98/98 - 0s - loss: 0.0021\n",
      "Epoch 108/110\n",
      "98/98 - 0s - loss: 0.0021\n",
      "Epoch 109/110\n",
      "98/98 - 0s - loss: 0.0021\n",
      "Epoch 110/110\n",
      "98/98 - 0s - loss: 0.0021\n"
     ]
    },
    {
     "data": {
      "text/plain": [
       "<tensorflow.python.keras.callbacks.History at 0x2ad340433a0>"
      ]
     },
     "execution_count": 13,
     "metadata": {},
     "output_type": "execute_result"
    }
   ],
   "source": [
    "model = Sequential() #activation function\n",
    "model.add(LSTM(4, input_shape=(1, look_back))) # Hidden layer with 4 neurons\n",
    "model.add(Dense(1)) # visible layer\n",
    "model.compile(loss='mean_squared_error', optimizer='adam') # compile and find mean square error\n",
    "model.fit(trainX, trainY, epochs=110, batch_size=1, verbose=2) # Get the output of the model"
   ]
  },
  {
   "cell_type": "markdown",
   "metadata": {},
   "source": [
    "### Finally we make the predictions of the model using our dataset. We estimate the performance of the model on the train and test datasets given below. We invert the predictions before calculating error scores to make sure that performance is shown in the same way with same units as the original dataset that we have used."
   ]
  },
  {
   "cell_type": "code",
   "execution_count": 14,
   "metadata": {},
   "outputs": [
    {
     "name": "stdout",
     "output_type": "stream",
     "text": [
      "Train Score: 23.48 RMSE\n",
      "Test Score: 49.54 RMSE\n"
     ]
    }
   ],
   "source": [
    "\n",
    "trainPredict = model.predict(trainX) # make predictions\n",
    "testPredict = model.predict(testX)   # make predictions\n",
    "\n",
    "trainPredict = scaler.inverse_transform(trainPredict) # invert the predictions\n",
    "trainY = scaler.inverse_transform([trainY])\n",
    "testPredict = scaler.inverse_transform(testPredict)\n",
    "testY = scaler.inverse_transform([testY])\n",
    "\n",
    "trainScore = math.sqrt(mean_squared_error(trainY[0], trainPredict[:,0])) # calculate root mean squared error\n",
    "print('Train Score: %.2f RMSE' % (trainScore)) #print the mean square error\n",
    "testScore = math.sqrt(mean_squared_error(testY[0], testPredict[:,0])) \n",
    "print('Test Score: %.2f RMSE' % (testScore))"
   ]
  },
  {
   "cell_type": "markdown",
   "metadata": {},
   "source": [
    "### We generate predictions using the model for both the train and test dataset to get a graphical representation of the model. Because of how the dataset was prepared, we must shift the predictions so that they align on the x-axis with the original dataset. Once prepared, the data is plotted, showing the original dataset in blue, the predictions for the training dataset in green, and the predictions on the unseen test dataset in red."
   ]
  },
  {
   "cell_type": "code",
   "execution_count": 15,
   "metadata": {},
   "outputs": [
    {
     "data": {
      "image/png": "[encoded data removed]",
      "text/plain": [
       "<Figure size 432x288 with 1 Axes>"
      ]
     },
     "metadata": {
      "needs_background": "light"
     },
     "output_type": "display_data"
    }
   ],
   "source": [
    "# shift train predictions for plotting\n",
    "trainPredictPlot = numpy.empty_like(dataset)\n",
    "trainPredictPlot[:, :] = numpy.nan\n",
    "trainPredictPlot[look_back:len(trainPredict)+look_back, :] = trainPredict\n",
    "# shift test predictions for plotting\n",
    "testPredictPlot = numpy.empty_like(dataset)\n",
    "testPredictPlot[:, :] = numpy.nan\n",
    "testPredictPlot[len(trainPredict)+(look_back*2)+1:len(dataset)-1, :] = testPredict\n",
    "\n",
    "plt.plot(scaler.inverse_transform(dataset)) # plot baseline and predictions\n",
    "plt.plot(trainPredictPlot)\n",
    "plt.plot(testPredictPlot)\n",
    "plt.show() # shows the graph properly"
   ]
  },
  {
   "cell_type": "markdown",
   "metadata": {},
   "source": [
    "# After running the program for 110 epochs and getting a loss of nearly 0.0021 we get our final graphical represenatation and model fits both datasets perfectly. Its very accurate model."
   ]
  }
 ],
 "metadata": {
  "kernelspec": {
   "display_name": "Python 3",
   "language": "python",
   "name": "python3"
  },
  "language_info": {
   "codemirror_mode": {
    "name": "ipython",
    "version": 3
   },
   "file_extension": ".py",
   "mimetype": "text/x-python",
   "name": "python",
   "nbconvert_exporter": "python",
   "pygments_lexer": "ipython3",
   "version": "3.8.2"
  }
 },
 "nbformat": 4,
 "nbformat_minor": 4
}
